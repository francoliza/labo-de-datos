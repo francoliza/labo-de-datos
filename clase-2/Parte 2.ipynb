{
 "cells": [
  {
   "cell_type": "markdown",
   "id": "exterior-photographer",
   "metadata": {},
   "source": [
    "## 1\n",
    "La forma en que pensamos en listas es como secuencias de elementos, no como en vectores o matrices. Podemos aproximarnos a la idea de una matriz numérica utilizando listas dentro de listas, como muestra el siguiente ejemplo:"
   ]
  },
  {
   "cell_type": "code",
   "execution_count": 1,
   "id": "muslim-garage",
   "metadata": {},
   "outputs": [
    {
     "name": "stdout",
     "output_type": "stream",
     "text": [
      "2\n",
      "12\n"
     ]
    }
   ],
   "source": [
    "a = [[2,5,1],[3,10,12],[2,0,0]]\n",
    "print(a[0][0])\n",
    "print(a[1][2])"
   ]
  },
  {
   "cell_type": "markdown",
   "id": "favorite-lending",
   "metadata": {},
   "source": [
    "## 2\n",
    "Es decir, esta lista se llama con dos índices i,j de forma tal que representa a la siguiente matriz:\n",
    "\n",
    "![matrix.png](data:image/png;base64,iVBORw0KGgoAAAANSUhEUgAAAMAAAACcCAIAAACm8jPcAAAAAXNSR0IArs4c6QAAAARnQU1BAACxjwv8YQUAAAAJcEhZcwAADsMAAA7DAcdvqGQAAAj0SURBVHhe7d3rYaM6FATg24/rST+pJ/Wkn71gZgTYCEsaiUc0389jQNLRGGed2PvfPzOBA2QSB8gkDpBJHCCTOEAmcYBM4gCZxAEyiQNkEgfIJA6QSS4XoJ+vx3+Dx/cPCl2476qvFqDf72cnx17+ovTB78/31wMnDac9vn4ST1w4e/+yV11j0XXc/Q708/Vs4Vpy+CA/tYPnHk6nfcm5y1r15pprzKLEvX8GYiu58UVJGGSm9jdEZ3Lw1g2zDbecIcZhKqck6IJ3oGczkhLA/Cw69xqpFsYxHl/fP78b4xfKWfWL8KRpuuaoawdobs6bYdP46HL/whlZm1q4f40CtL/qV/PR+jQK3DlAm/tXtKmF+1c01qbCCQxOzs+tX8I2969oUwv3r2isTRmrXjk7Pg7QpHD/isbaVDYBjn9efP7GS9iy7TwjbyvK9i9MoHKA0m6B+Jfjuni8v/BD9Lqtb6UEBfs3Oi9A8yHnvYU4ufNL2NxGHD2/KZK5pdcK0CfXSc/g1gEaj97a7OwNzRs0OCdAHPVd7vxruHmABr/jG7PPcwaP5xt8eCRd3qCxW5Swf3UCVCHJ2e4foBpuFaBruVqA+Jp05QDVd86qq7hWgJ5dHB2dn1P37zn26Ib5uWSAHse+lE+DDs7aP4x+wg8wFVzuZ6Dj3Xr/TucAmcQBMokDZBIHyCQOkEkcIJM4QCY5LUDTuy92LmyGwAHqGjZD4AB1DZshcIC6hs0QOEBdw2YIrhIgVK0xtJtQFThAfUG7CVWBA9QXtJtQFThAfUG7CVWBA9QXtJtQFThAfUG7CVWBA9QXtJtQFThAfUG7CVWBA9QXtJtQFThAfUG7CVXBziX4HZJtPi71vPQMVWsM7SZUBTuXQH4yPrKf8/XXOIhQtcbQbkJVsHOJ3DtQCNxS9GQ8TqjuOuzr2SPfnnDeJ4/rfan5dJEAVUG1pz7jwy6HTYi0fXowQDVuM56NvtDkSgGq/KXmuAqhKti5BNuY1Dfu72J9r5Famx4LUI0bvwXoqK9nx8pPCcyLsYk1v9R8ukiAqiA5QJFn5WhYEx9dLi+csbnm6aEA1VTzbFrsMq5+hQAFfzxAm8vbXfP0UIBqqnk2YkM3OUDpkgO07+AAtc3PxpOl4U/siRygF9NDAapJGsdnK0CTRsMluX2AYk0dDGvi8pZh2w/g86EZqgk41GH7OX6LJ0ZMeS418scDFB5drG9/ydNjAaqfzHt5UHomIbSHjrpy+wB9EBKEoz9+5/f0YIDqrjnDR/9Awt3zHehNrQAtbw5L0fXicUI17sD0LN9yGixews67AXUQoMHY6pCiYRP2vvMbRxGqUeFF5E39u0JkrFNuP/PzZq10MjidUBVUuEQZrIBQjYoHqMVtYf1bt+kf8SekZ+AAxWAFhKo1hnYTqgIHqC9oN6EqcID6gnYTqgIHqC9oN6EqcID6gnYTqgIHqC9oN6EqcID6gnYTqgIHqC9oN6EqcID6gnYTqgIHqC9oN6EqcID6gnYTqoKdS+R+LizP89IzVK0xtJtQFexcIvz+Mue3lckfgZuOCVC1xtBuQlWwc4ncO1DeR+BwEKG65/1X5CX/Rfye/fSvx2/+Z/a7kymeC84gVAX1nvpj3DI+AjcdE6AaFfuzhv1B0n1Mf7gfLzX6E6EPk9mcSmIrcCyhKti5RP4flE1aBWjxPBuegOxwnQR9Sj/L7EXIc4sIfZ7M3IpFJ5JagUMJVUFygGK3gEGk2fvrmY4JUE0WppPStQzbk9+ostToJvSU1Ml5Y1KmgkMJVcEtA1T9BjTbnDzXviy2SvBSZoBSZoJDCVVBcoDStQrQa4Tr/xA92Jx8erGulCHy8uMArQ0ZqhyhmwUoMz5nBmhj++hl7q0CtJD7o2O6WwWIj2dMAscTqoJ7BmgUuld1Bzcnz+LyXrzuThu7nSz7tBpOIVQFyQFK9/cCFJ48i2raKjXxMeanc+bbmTiLUBXUC9C8prXI6XiUUI0ZLv5874OX+m31adHtPQtrw2Lml9CW+YkFqDg9A5xIqApuEqDQy1eVNvDj5OfALrWJz4fJxFqRtFM4klAVVLhEGayAUN0xPOvb/SosJf3jXS8cVXf4teIAJQQaBxKqgvsEyGpAuwlVgQPUF7SbUBU4QH1BuwlVgQPUF7SbUBU4QH1BuwlVgQPUF7SbUBU4QH1BuwlVgQPUF7SbUBU4QH1BuwlVgQPUF7SbUBU4QH1BuwlVgQPUF7SbUBXELsGPlCT8grfM8+ozVK0xtJtQFcQuEX7lm/oXC+tfli8+wxWBAwnVXblDSA4dbFfVmeAqhKogdom8O1DkLwz2wodDCNW4giEEm6M1uxvvqTwTXIBQFVS4xKDgs5I4glCNKxiiGDeN+xT+QOfwCFWfyXR2gKogdgnOtGSi8x9E7ZyNIwjVVElDlOKuLbL5upEHqT+T6eQAVUFagOb9erNxB5iPrngHWksaohCvvbxyGK/+cDsazGQ6N0BV0CBA88F7a8QhhGqitCEKbTztI8XWGsxkOjdAVZAWoAype4uDCNUkTePjAOWpHCCu7vP6cBihmiB9iEINtq1Qg5lM5waoCtICND/n3yzWkfVZLRxJqH6SNUQh7tDyuVP4fBI1mMnz3BmqgmoBmg9Je6MLBxOqu3KHKBSGWT033koHaDCT6eQAVUFagD4p2FocT6jGHZSeURgKi5/fdjo2Py1mMp0doCqoEiA+K97FT8cBhGpUyRDl5lfKpaPjM6o9E1yAUBU0DlB8qXicUI0qGUJy2OdQP6o6E1yGUBVUuEQZrIBQtcbQbkJV4AD1Be0mVAUOUF/QbkJV4AD1Be0mVAUOUF/QbkJV4AD1Be0mVAUOUF/QbkJV4AD1Be0mVAUOUF/QbkJV4AD1Be0mVAUOUF/QbkJV4AD1Be0mVAUOUF/QbkJV4AD1Be0mVAUOUF/QbkJVcJUA2SmwGQIHqGvYDIED1DVshsAB6ho2Q+AAdQ2bITgtQPY3OEAmcYBM4gCZxAEyiQNkEgfIJA6QSRwgkzhAJnGATOIAmcQBMokDZBIHyCQOkAn+/fsfznFIn4q3e/AAAAAASUVORK5CYII=)\n",
    "\n",
    "El problema con esto es que las funciones y métodos de Python no se comportan como esperaríamos si estas fuesen matrices. Por ejemplo, la operación suma no devuelve la suma elemento a elemento, sino la concatenación de la listas:"
   ]
  },
  {
   "cell_type": "code",
   "execution_count": 2,
   "id": "union-labor",
   "metadata": {},
   "outputs": [
    {
     "name": "stdout",
     "output_type": "stream",
     "text": [
      "[[2, 5, 1], [3, 10, 12], [2, 0, 0], [2, 5, 1], [3, 10, 12], [2, 0, 0]]\n"
     ]
    }
   ],
   "source": [
    "a = [[2,5,1],[3,10,12],[2,0,0]]\n",
    "b = [[2,5,1],[3,10,12],[2,0,0]]\n",
    "print(a+b)"
   ]
  },
  {
   "cell_type": "markdown",
   "id": "incomplete-foster",
   "metadata": {},
   "source": [
    "Pero no todo está perdido. La librería de Python llamada Numpy se inventó precisamente para poder transformar listas en vectores y listas de listas en matrices, de forma tal que cumplan con nuestras intuiciones de álgebra lineal."
   ]
  },
  {
   "cell_type": "code",
   "execution_count": 4,
   "id": "remarkable-associate",
   "metadata": {},
   "outputs": [
    {
     "name": "stdout",
     "output_type": "stream",
     "text": [
      "[[ 4 10  2]\n",
      " [ 6 20 24]\n",
      " [ 4  0  0]]\n",
      "<class 'numpy.ndarray'>\n"
     ]
    }
   ],
   "source": [
    "import numpy as np\n",
    "a = np.array([[2,5,1],[3,10,12],[2,0,0]])\n",
    "b = np.array([[2,5,1],[3,10,12],[2,0,0]])\n",
    "print(a + b)\n",
    "print(type(a))\n"
   ]
  },
  {
   "cell_type": "markdown",
   "id": "infrared-cheese",
   "metadata": {},
   "source": [
    "Es importante notar que Numpy trabaja con datos numéricos y que por lo tanto podemos encontrar un error si intentamos operar aritméticamente con cualquier array."
   ]
  },
  {
   "cell_type": "code",
   "execution_count": 6,
   "id": "public-corruption",
   "metadata": {},
   "outputs": [
    {
     "ename": "UFuncTypeError",
     "evalue": "ufunc 'add' did not contain a loop with signature matching types (dtype('<U5'), dtype('<U5')) -> dtype('<U5')",
     "output_type": "error",
     "traceback": [
      "\u001b[0;31m---------------------------------------------------------------------------\u001b[0m",
      "\u001b[0;31mUFuncTypeError\u001b[0m                            Traceback (most recent call last)",
      "\u001b[0;32m<ipython-input-6-7ffaceded262>\u001b[0m in \u001b[0;36m<module>\u001b[0;34m\u001b[0m\n\u001b[1;32m      1\u001b[0m \u001b[0ma\u001b[0m \u001b[0;34m=\u001b[0m \u001b[0mnp\u001b[0m\u001b[0;34m.\u001b[0m\u001b[0marray\u001b[0m\u001b[0;34m(\u001b[0m\u001b[0;34m[\u001b[0m\u001b[0;34m'hola'\u001b[0m\u001b[0;34m,\u001b[0m \u001b[0;34m'mundo'\u001b[0m\u001b[0;34m]\u001b[0m\u001b[0;34m)\u001b[0m\u001b[0;34m\u001b[0m\u001b[0;34m\u001b[0m\u001b[0m\n\u001b[1;32m      2\u001b[0m \u001b[0mb\u001b[0m \u001b[0;34m=\u001b[0m \u001b[0mnp\u001b[0m\u001b[0;34m.\u001b[0m\u001b[0marray\u001b[0m\u001b[0;34m(\u001b[0m\u001b[0;34m[\u001b[0m\u001b[0;34m'como'\u001b[0m\u001b[0;34m,\u001b[0m \u001b[0;34m'va'\u001b[0m\u001b[0;34m]\u001b[0m\u001b[0;34m)\u001b[0m\u001b[0;34m\u001b[0m\u001b[0;34m\u001b[0m\u001b[0m\n\u001b[0;32m----> 3\u001b[0;31m \u001b[0mprint\u001b[0m\u001b[0;34m(\u001b[0m\u001b[0ma\u001b[0m \u001b[0;34m+\u001b[0m \u001b[0mb\u001b[0m\u001b[0;34m)\u001b[0m\u001b[0;34m\u001b[0m\u001b[0;34m\u001b[0m\u001b[0m\n\u001b[0m",
      "\u001b[0;31mUFuncTypeError\u001b[0m: ufunc 'add' did not contain a loop with signature matching types (dtype('<U5'), dtype('<U5')) -> dtype('<U5')"
     ]
    }
   ],
   "source": [
    "a = np.array(['hola', 'mundo'])\n",
    "b = np.array(['como', 'va'])\n",
    "print(a + b)"
   ]
  },
  {
   "cell_type": "markdown",
   "id": "distributed-tourist",
   "metadata": {},
   "source": [
    "También es importante que las dimensiones sean consistentes con las operaciones que queremos realizar."
   ]
  },
  {
   "cell_type": "code",
   "execution_count": 8,
   "id": "signal-ideal",
   "metadata": {},
   "outputs": [
    {
     "name": "stdout",
     "output_type": "stream",
     "text": [
      "[[ 4 10  2]\n",
      " [ 6 20 24]\n",
      " [ 4  0  0]]\n",
      "[[  4  25   1]\n",
      " [  9 100 144]\n",
      " [  4   0   0]]\n"
     ]
    },
    {
     "ename": "ValueError",
     "evalue": "operands could not be broadcast together with shapes (3,3) (4,3) ",
     "output_type": "error",
     "traceback": [
      "\u001b[0;31m---------------------------------------------------------------------------\u001b[0m",
      "\u001b[0;31mValueError\u001b[0m                                Traceback (most recent call last)",
      "\u001b[0;32m<ipython-input-8-2d16534a5b44>\u001b[0m in \u001b[0;36m<module>\u001b[0;34m\u001b[0m\n\u001b[1;32m      7\u001b[0m \u001b[0;34m\u001b[0m\u001b[0m\n\u001b[1;32m      8\u001b[0m \u001b[0;31m# estas operaciones son invalidas\u001b[0m\u001b[0;34m\u001b[0m\u001b[0;34m\u001b[0m\u001b[0;34m\u001b[0m\u001b[0m\n\u001b[0;32m----> 9\u001b[0;31m \u001b[0mprint\u001b[0m\u001b[0;34m(\u001b[0m\u001b[0ma\u001b[0m \u001b[0;34m+\u001b[0m \u001b[0mb\u001b[0m\u001b[0;34m)\u001b[0m\u001b[0;34m\u001b[0m\u001b[0;34m\u001b[0m\u001b[0m\n\u001b[0m\u001b[1;32m     10\u001b[0m \u001b[0mprint\u001b[0m\u001b[0;34m(\u001b[0m\u001b[0ma\u001b[0m \u001b[0;34m*\u001b[0m \u001b[0mb\u001b[0m\u001b[0;34m)\u001b[0m\u001b[0;34m\u001b[0m\u001b[0;34m\u001b[0m\u001b[0m\n\u001b[1;32m     11\u001b[0m \u001b[0mprint\u001b[0m\u001b[0;34m(\u001b[0m\u001b[0mb\u001b[0m \u001b[0;34m*\u001b[0m \u001b[0ma\u001b[0m\u001b[0;34m)\u001b[0m\u001b[0;34m\u001b[0m\u001b[0;34m\u001b[0m\u001b[0m\n",
      "\u001b[0;31mValueError\u001b[0m: operands could not be broadcast together with shapes (3,3) (4,3) "
     ]
    }
   ],
   "source": [
    "a = np.array([[2,5,1],[3,10,12],[2,0,0]])\n",
    "b = np.array([[2,5,1],[3,10,12],[2,0,0],[10,10,10]])\n",
    "\n",
    "# estas operaciones entre matrices son válidas\n",
    "print(a + a)\n",
    "print(a * a)\n",
    "\n",
    "# estas operaciones son invalidas\n",
    "print(a + b)\n",
    "print(a * b)\n",
    "print(b * a)"
   ]
  },
  {
   "cell_type": "markdown",
   "id": "varied-queue",
   "metadata": {},
   "source": [
    "Notar que la operación de multiplicación actúa elemento a elemento. Por eso es imposible hacer el producto elemento a elemento de un array de $3 \\times 3$ por uno de $4 \\times 3$, no importa en que orden lo pongamos.\n",
    "\n",
    "Para hacer producto interno de matrices, usamos dot:"
   ]
  },
  {
   "cell_type": "code",
   "execution_count": 9,
   "id": "quantitative-flash",
   "metadata": {},
   "outputs": [
    {
     "name": "stdout",
     "output_type": "stream",
     "text": [
      "[[ 21  60  62]\n",
      " [ 60 115 123]\n",
      " [  4  10   2]\n",
      " [ 70 150 130]]\n"
     ]
    }
   ],
   "source": [
    "print(np.dot(b,a))"
   ]
  },
  {
   "cell_type": "markdown",
   "id": "later-impossible",
   "metadata": {},
   "source": [
    "Obviamente que en el orden opuesto dá error"
   ]
  },
  {
   "cell_type": "code",
   "execution_count": 10,
   "id": "current-notification",
   "metadata": {},
   "outputs": [
    {
     "ename": "ValueError",
     "evalue": "shapes (3,3) and (4,3) not aligned: 3 (dim 1) != 4 (dim 0)",
     "output_type": "error",
     "traceback": [
      "\u001b[0;31m---------------------------------------------------------------------------\u001b[0m",
      "\u001b[0;31mValueError\u001b[0m                                Traceback (most recent call last)",
      "\u001b[0;32m<ipython-input-10-96c71fbaf672>\u001b[0m in \u001b[0;36m<module>\u001b[0;34m\u001b[0m\n\u001b[0;32m----> 1\u001b[0;31m \u001b[0mprint\u001b[0m\u001b[0;34m(\u001b[0m\u001b[0mnp\u001b[0m\u001b[0;34m.\u001b[0m\u001b[0mdot\u001b[0m\u001b[0;34m(\u001b[0m\u001b[0ma\u001b[0m\u001b[0;34m,\u001b[0m \u001b[0mb\u001b[0m\u001b[0;34m)\u001b[0m\u001b[0;34m)\u001b[0m\u001b[0;34m\u001b[0m\u001b[0;34m\u001b[0m\u001b[0m\n\u001b[0m",
      "\u001b[0;32m<__array_function__ internals>\u001b[0m in \u001b[0;36mdot\u001b[0;34m(*args, **kwargs)\u001b[0m\n",
      "\u001b[0;31mValueError\u001b[0m: shapes (3,3) and (4,3) not aligned: 3 (dim 1) != 4 (dim 0)"
     ]
    }
   ],
   "source": [
    "print(np.dot(a, b))"
   ]
  },
  {
   "cell_type": "markdown",
   "id": "indoor-inspector",
   "metadata": {},
   "source": [
    "¿Qué pasa con los arrays unidimensionales? ¿Entiende automáticamente Numpy que un array puede ser de $1 \\times n$ o de $n \\times 1$ dependiendo del producto que yo quiero hacer?"
   ]
  },
  {
   "cell_type": "code",
   "execution_count": 13,
   "id": "photographic-value",
   "metadata": {},
   "outputs": [
    {
     "name": "stdout",
     "output_type": "stream",
     "text": [
      "[15 59  2 60]\n",
      "[54 65 65]\n",
      "(3,)\n",
      "(3,)\n"
     ]
    }
   ],
   "source": [
    "a = np.array([[2,5,1],[3,10,12],[2,0,0],[10,10,10]])\n",
    "b = np.array([1,2,3])\n",
    "c = np.array([1,2,3,4])\n",
    "print(np.dot(a,b))\n",
    "print(np.dot(c,a))\n",
    "\n",
    "print(b.shape)\n",
    "print(np.transpose(b).shape)"
   ]
  },
  {
   "cell_type": "markdown",
   "id": "breeding-companion",
   "metadata": {},
   "source": [
    "Aparentmente sí.\n",
    "¿Cómo podemos obtener la dimensión de un array? Usamos el método array.shape()"
   ]
  },
  {
   "cell_type": "code",
   "execution_count": 14,
   "id": "brown-violence",
   "metadata": {},
   "outputs": [
    {
     "name": "stdout",
     "output_type": "stream",
     "text": [
      "[[ 2  5  1]\n",
      " [ 3 10 12]\n",
      " [ 2  0  0]\n",
      " [10 10 10]]\n",
      "[[ 2  3  2 10]\n",
      " [ 5 10  0 10]\n",
      " [ 1 12  0 10]]\n"
     ]
    }
   ],
   "source": [
    "print(a)\n",
    "print(np.transpose(a))"
   ]
  },
  {
   "cell_type": "markdown",
   "id": "compact-challenge",
   "metadata": {},
   "source": [
    "Además, podemos concatenar matrices siempre que elijamos dimensiones consistenes para hacerlo. Para eso, primero formamos una tupla (...,...,...) y después usamos np.concatenate indicando el eje (0=filas, 1=columnas). Por ejemplo:\n"
   ]
  },
  {
   "cell_type": "code",
   "execution_count": 16,
   "id": "associate-quebec",
   "metadata": {},
   "outputs": [
    {
     "name": "stdout",
     "output_type": "stream",
     "text": [
      "[[ 2  5  1]\n",
      " [ 3 10 12]\n",
      " [ 2  0  0]\n",
      " [10 10 10]]\n",
      "SEPARETOR\n",
      "[[10 12]\n",
      " [ 0  0]]\n"
     ]
    }
   ],
   "source": [
    "print(a)\n",
    "print('SEPARETOR')\n",
    "print(a[1:3,1:3])"
   ]
  },
  {
   "cell_type": "markdown",
   "id": "requested-bosnia",
   "metadata": {},
   "source": [
    "Además, podemos seleccionar filas o columnas enteras usando : solo,\n"
   ]
  },
  {
   "cell_type": "code",
   "execution_count": 18,
   "id": "plain-boxing",
   "metadata": {},
   "outputs": [
    {
     "name": "stdout",
     "output_type": "stream",
     "text": [
      "[ 5 10  0 10]\n",
      "[ 3 10 12]\n"
     ]
    }
   ],
   "source": [
    "print(a[:,1])\n",
    "print(a[1,:])"
   ]
  },
  {
   "cell_type": "markdown",
   "id": "sensitive-manor",
   "metadata": {},
   "source": [
    "A veces es importante averiguar los índices de un array donde se cumple una determinada condición. Eso puede hacerse con la función np.where() de Numpy:"
   ]
  },
  {
   "cell_type": "code",
   "execution_count": 19,
   "id": "blessed-contact",
   "metadata": {},
   "outputs": [
    {
     "data": {
      "text/plain": [
       "(array([0, 0, 1, 1, 1, 2, 3, 3, 3]), array([0, 1, 0, 1, 2, 0, 0, 1, 2]))"
      ]
     },
     "execution_count": 19,
     "metadata": {},
     "output_type": "execute_result"
    }
   ],
   "source": [
    "a = np.array([[2,5,1],[3,10,12],[2,0,0],[10,10,10]])\n",
    "np.where(a>1)"
   ]
  },
  {
   "cell_type": "markdown",
   "id": "fixed-abraham",
   "metadata": {},
   "source": [
    "Esto podemos usarlo directamente para indexar el array y extraer los valores que cumplen con la condición pedida:"
   ]
  },
  {
   "cell_type": "code",
   "execution_count": 21,
   "id": "seventh-authorization",
   "metadata": {},
   "outputs": [
    {
     "data": {
      "text/plain": [
       "array([ 2,  5,  3, 10, 12,  2, 10, 10, 10])"
      ]
     },
     "execution_count": 21,
     "metadata": {},
     "output_type": "execute_result"
    }
   ],
   "source": [
    "a[np.where(a>1)]"
   ]
  },
  {
   "cell_type": "markdown",
   "id": "criminal-texas",
   "metadata": {},
   "source": [
    "Otra forma de hacerlo es con indexado booleano:"
   ]
  },
  {
   "cell_type": "code",
   "execution_count": 20,
   "id": "after-merchandise",
   "metadata": {},
   "outputs": [
    {
     "data": {
      "text/plain": [
       "array([ 2,  5,  3, 10, 12,  2, 10, 10, 10])"
      ]
     },
     "execution_count": 20,
     "metadata": {},
     "output_type": "execute_result"
    }
   ],
   "source": [
    "a[a>1]"
   ]
  },
  {
   "cell_type": "markdown",
   "id": "following-flash",
   "metadata": {},
   "source": [
    "Si tenemos varias condiciones podemos usar operadores lógicos:\n"
   ]
  },
  {
   "cell_type": "code",
   "execution_count": 22,
   "id": "significant-allen",
   "metadata": {},
   "outputs": [
    {
     "ename": "ValueError",
     "evalue": "The truth value of an array with more than one element is ambiguous. Use a.any() or a.all()",
     "output_type": "error",
     "traceback": [
      "\u001b[0;31m---------------------------------------------------------------------------\u001b[0m",
      "\u001b[0;31mValueError\u001b[0m                                Traceback (most recent call last)",
      "\u001b[0;32m<ipython-input-22-2639eb6e5199>\u001b[0m in \u001b[0;36m<module>\u001b[0;34m\u001b[0m\n\u001b[0;32m----> 1\u001b[0;31m \u001b[0ma\u001b[0m\u001b[0;34m[\u001b[0m\u001b[0ma\u001b[0m\u001b[0;34m>\u001b[0m\u001b[0;36m1\u001b[0m \u001b[0;32mand\u001b[0m \u001b[0ma\u001b[0m\u001b[0;34m<\u001b[0m\u001b[0;36m9\u001b[0m\u001b[0;34m]\u001b[0m\u001b[0;34m\u001b[0m\u001b[0;34m\u001b[0m\u001b[0m\n\u001b[0m",
      "\u001b[0;31mValueError\u001b[0m: The truth value of an array with more than one element is ambiguous. Use a.any() or a.all()"
     ]
    }
   ],
   "source": [
    "a[a>1 and a<9]"
   ]
  },
  {
   "cell_type": "markdown",
   "id": "electric-brain",
   "metadata": {},
   "source": [
    "No es tan sencillo como parecia. Cuando tenemos arrays con más de un elemento, tenemos que usar las funciones np.logical_and() y np.logical_or():"
   ]
  },
  {
   "cell_type": "code",
   "execution_count": 24,
   "id": "existing-flour",
   "metadata": {},
   "outputs": [
    {
     "name": "stdout",
     "output_type": "stream",
     "text": [
      "[[ True  True False]\n",
      " [ True  True  True]\n",
      " [ True False False]\n",
      " [ True  True  True]]\n",
      "[[ True  True  True]\n",
      " [ True False False]\n",
      " [ True  True  True]\n",
      " [False False False]]\n",
      "[[ True  True False]\n",
      " [ True False False]\n",
      " [ True False False]\n",
      " [False False False]]\n",
      "[[ True  True  True]\n",
      " [ True  True  True]\n",
      " [ True  True  True]\n",
      " [ True  True  True]]\n",
      "[2 5 3 2]\n"
     ]
    }
   ],
   "source": [
    "print(a>1)\n",
    "print(a<9)\n",
    "print(np.logical_and(a>1,a<9))\n",
    "print(np.logical_or(a>1,a<9))\n",
    "print(a[np.logical_and(a>1,a<9)])"
   ]
  },
  {
   "cell_type": "markdown",
   "id": "starting-acrylic",
   "metadata": {},
   "source": [
    "Hay algunos arrays predefinidos útiles que Numpy puede generar por nosotros, por ejemplo, arrays llenos de 0's o 1's con una forma determinada, o la matriz identidad. Notar que las dimensiones se le pasan como una tupla (...,...,...):\n"
   ]
  },
  {
   "cell_type": "code",
   "execution_count": 25,
   "id": "secret-committee",
   "metadata": {},
   "outputs": [
    {
     "name": "stdout",
     "output_type": "stream",
     "text": [
      "[[0. 0. 0. 0. 0.]\n",
      " [0. 0. 0. 0. 0.]]\n",
      "[[1. 1. 1. 1. 1.]\n",
      " [1. 1. 1. 1. 1.]]\n",
      "[[1. 0. 0. 0. 0. 0. 0.]\n",
      " [0. 1. 0. 0. 0. 0. 0.]\n",
      " [0. 0. 1. 0. 0. 0. 0.]\n",
      " [0. 0. 0. 1. 0. 0. 0.]\n",
      " [0. 0. 0. 0. 1. 0. 0.]\n",
      " [0. 0. 0. 0. 0. 1. 0.]\n",
      " [0. 0. 0. 0. 0. 0. 1.]]\n"
     ]
    }
   ],
   "source": [
    "print(np.zeros((2,5)))\n",
    "print(np.ones((2,5)))\n",
    "print(np.eye(7))"
   ]
  },
  {
   "cell_type": "markdown",
   "id": "corrected-champagne",
   "metadata": {},
   "source": [
    "Por último, si tenemos un archivo de datos del tipo .csv (comma separated values) podemos leerlo fácilmente con Numpy.\n",
    "\n",
    "Para eso, compartí el archivo 'ejemplo_csv_clase_2.csv' en el folder de Labo de Datos. Procedemos a montar el drive y cargar el archivo .csv como una matrix:\n"
   ]
  },
  {
   "cell_type": "code",
   "execution_count": 26,
   "id": "gothic-mathematics",
   "metadata": {},
   "outputs": [
    {
     "ename": "ModuleNotFoundError",
     "evalue": "No module named 'google.colab'",
     "output_type": "error",
     "traceback": [
      "\u001b[0;31m---------------------------------------------------------------------------\u001b[0m",
      "\u001b[0;31mModuleNotFoundError\u001b[0m                       Traceback (most recent call last)",
      "\u001b[0;32m<ipython-input-26-be63ef6e1d74>\u001b[0m in \u001b[0;36m<module>\u001b[0;34m\u001b[0m\n\u001b[0;32m----> 1\u001b[0;31m \u001b[0;32mfrom\u001b[0m \u001b[0mgoogle\u001b[0m\u001b[0;34m.\u001b[0m\u001b[0mcolab\u001b[0m \u001b[0;32mimport\u001b[0m \u001b[0mdrive\u001b[0m\u001b[0;34m\u001b[0m\u001b[0;34m\u001b[0m\u001b[0m\n\u001b[0m\u001b[1;32m      2\u001b[0m \u001b[0mdrive\u001b[0m\u001b[0;34m.\u001b[0m\u001b[0mmount\u001b[0m\u001b[0;34m(\u001b[0m\u001b[0;34m'/content/drive'\u001b[0m\u001b[0;34m)\u001b[0m\u001b[0;34m\u001b[0m\u001b[0;34m\u001b[0m\u001b[0m\n\u001b[1;32m      3\u001b[0m \u001b[0;34m\u001b[0m\u001b[0m\n\u001b[1;32m      4\u001b[0m \u001b[0mfilename\u001b[0m \u001b[0;34m=\u001b[0m \u001b[0;34m'/content/drive/My Drive/LaboDatos2021/ejemplo_csv_clase_2.txt'\u001b[0m\u001b[0;34m\u001b[0m\u001b[0;34m\u001b[0m\u001b[0m\n\u001b[1;32m      5\u001b[0m \u001b[0;34m\u001b[0m\u001b[0m\n",
      "\u001b[0;31mModuleNotFoundError\u001b[0m: No module named 'google.colab'"
     ]
    }
   ],
   "source": [
    "from google.colab import drive\n",
    "drive.mount('/content/drive')\n",
    "\n",
    "filename = '/content/drive/My Drive/LaboDatos2021/ejemplo_csv_clase_2.txt' \n",
    "\n",
    "from numpy import genfromtxt\n",
    "a = genfromtxt(filename, delimiter=',')\n",
    "\n",
    "print(a)"
   ]
  },
  {
   "cell_type": "code",
   "execution_count": null,
   "id": "basic-wireless",
   "metadata": {},
   "outputs": [],
   "source": []
  },
  {
   "cell_type": "code",
   "execution_count": null,
   "id": "pleasant-exercise",
   "metadata": {},
   "outputs": [],
   "source": []
  }
 ],
 "metadata": {
  "kernelspec": {
   "display_name": "Python 3",
   "language": "python",
   "name": "python3"
  },
  "language_info": {
   "codemirror_mode": {
    "name": "ipython",
    "version": 3
   },
   "file_extension": ".py",
   "mimetype": "text/x-python",
   "name": "python",
   "nbconvert_exporter": "python",
   "pygments_lexer": "ipython3",
   "version": "3.8.5"
  }
 },
 "nbformat": 4,
 "nbformat_minor": 5
}
