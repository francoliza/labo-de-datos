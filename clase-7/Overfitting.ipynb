{
 "cells": [
  {
   "cell_type": "markdown",
   "id": "alone-surveillance",
   "metadata": {},
   "source": [
    "# Regresión lineal, polinomios. Sobreajuste\n",
    "\n",
    "En esta clase vamos a hacer un repaso de regresión lineal, cómo se extiende a relaciones no lineales entre las variables, y qué pasa cuando nuestro modelo tiene muchos grados de libertad, del orden de la cantidad de datos que tenemos. \n",
    "Se recomienda ver el capítulo 3 y las secciones 6.2 y 7.1 del libro *An Introduction to Statistical Learning*, como así también la sección 1.1 de *Pattern Recognition and Machine Learning*, ambos recomendados como bibliografía en general para la materia y para la vida.\n"
   ]
  },
  {
   "cell_type": "code",
   "execution_count": 1,
   "id": "failing-reply",
   "metadata": {},
   "outputs": [],
   "source": [
    "# Importamos algunas librerías generales\n",
    "import matplotlib.pyplot as plt \n",
    "import numpy as np \n",
    "import pandas as pd \n",
    "\n",
    "# Fijemos la semilla de numeros aleatorios para que los resultados sean reproducibles\n",
    "np.random.seed(123458)"
   ]
  },
  {
   "cell_type": "markdown",
   "id": "vocational-dairy",
   "metadata": {},
   "source": [
    "## Repaso de [regresión lineal](https://scikit-learn.org/stable/modules/generated/sklearn.linear_model.LinearRegression.html?highlight=linear%20regression#sklearn.linear_model.LinearRegression) \n",
    "\n",
    "Este es un breve repaso de lo que se vió la clase anterior. Lo importante acá es prestar atención a la forma en la que se llama al modelo lineal, cómo se importa de scikit-learn, cómo se ajustan los datos, dónde podemos leer los coeficientes y cómo podemos predecir nuevos valores con el modelo ajustado. La sintaxis va a ser prácticamente la misma para todos los ejemplos que siguen."
   ]
  },
  {
   "cell_type": "code",
   "execution_count": 2,
   "id": "excited-transsexual",
   "metadata": {},
   "outputs": [],
   "source": [
    "# Importamos modelo lineal\n",
    "from sklearn.linear_model import LinearRegression"
   ]
  },
  {
   "cell_type": "markdown",
   "id": "proper-amateur",
   "metadata": {},
   "source": [
    "En el caso más sencillo recordemos que tenemos una variable independiente $x$ y una variable dependiente $y$, linealmente relacionadas:\n",
    "$$ y \\sim \\beta_0 + \\beta_1 x $$\n",
    "La relación no es exacta debido a la presencia de ruido. Por lo tanto la igualdad la vamos a tener si escribimos dicha relación como $ y = \\beta_0 + \\beta_1 x + \\epsilon$, donde en general suponemos que $\\epsilon$ es un número aleatorio que viene de una distribución normal con $\\mu = 0$ y desviación $\\sigma$.\n"
   ]
  },
  {
   "cell_type": "markdown",
   "id": "imported-visibility",
   "metadata": {},
   "source": [
    "Hacemos lo mismo de la clase pasada, generar datos de una relación conocida y sumarle ruido, y ver si el modelo lineal es capaz de captar dicha relación:"
   ]
  },
  {
   "cell_type": "code",
   "execution_count": 6,
   "id": "monetary-growing",
   "metadata": {},
   "outputs": [],
   "source": [
    "## Creación de datos sintéticos\n",
    "\n",
    "# Variable independiente\n",
    "x = np.arange(0.00, 3.01, 0.25)\n",
    "\n",
    "# Coeficientes de la relación lineal \n",
    "beta_0 = 1.00\n",
    "beta_1 = 3.00\n",
    "\n",
    "# Para evaluar polinomios es recomendable usar el método polyval de numpy\n",
    "y = np.polyval([beta_1, beta_0], x)\n",
    "y += np.random.normal(loc = 0.00, scale = 2.00, size = len(x))\n"
   ]
  },
  {
   "cell_type": "code",
   "execution_count": 7,
   "id": "crazy-restaurant",
   "metadata": {},
   "outputs": [
    {
     "name": "stdout",
     "output_type": "stream",
     "text": [
      "[0.   0.25 0.5  0.75 1.   1.25 1.5  1.75 2.   2.25 2.5  2.75 3.  ]\n",
      "[-0.16362826 -0.79021635  2.45087553  2.87002914  5.10765954  4.11100505\n",
      "  5.90484719  5.12481477  9.57301377  9.49178207 10.7889349   9.00206895\n",
      " 12.0784147 ]\n"
     ]
    }
   ],
   "source": [
    "print(x)\n",
    "print(y)"
   ]
  },
  {
   "cell_type": "markdown",
   "id": "spectacular-preservation",
   "metadata": {},
   "source": [
    "En el siguiente bloque, creamos y ajustamos el modelo:"
   ]
  },
  {
   "cell_type": "code",
   "execution_count": 8,
   "id": "composite-kingston",
   "metadata": {},
   "outputs": [
    {
     "name": "stdout",
     "output_type": "stream",
     "text": [
      "Ordenada al origen = -0.306\n",
      "Pendiente = 4.079\n"
     ]
    }
   ],
   "source": [
    "## Ajuste del modelo \n",
    "\n",
    "# Creación del modelo lineal (ver parámetros en la documentación)\n",
    "reg = LinearRegression()\n",
    "\n",
    "# Este cambio de dimensiones es necesario ya que scikit-learn espera que x sea una matriz\n",
    "X = x.reshape(-1, 1)\n",
    "\n",
    "# Ajuste del modelo \n",
    "reg.fit(X, y)\n",
    "\n",
    "# Coeficientes del modelo \n",
    "beta_0_estimado = reg.intercept_\n",
    "beta_1_estimado = reg.coef_[0]\n",
    "\n",
    "print('Ordenada al origen = {:.3f}'.format(beta_0_estimado))\n",
    "print('Pendiente = {:.3f}'.format(beta_1_estimado))"
   ]
  },
  {
   "cell_type": "code",
   "execution_count": 9,
   "id": "bright-wound",
   "metadata": {},
   "outputs": [
    {
     "name": "stdout",
     "output_type": "stream",
     "text": [
      "[4.07858679]\n"
     ]
    }
   ],
   "source": [
    "print(reg.coef_)"
   ]
  },
  {
   "cell_type": "markdown",
   "id": "completed-turner",
   "metadata": {},
   "source": [
    "#### Calidad del ajuste\n",
    "Esta se mide mediante el coeficiente:\n",
    "$$ R^2 = \\frac{\\text{TSS} - \\text{RSS}}{\\text{TSS}} $$\n",
    "donde $\\text{TSS} = \\sum_i({y_i - \\bar y})^2$ es la suma total de los cuadrados ($\\bar y$ es la media muestral o promedio de $y$) y \n",
    "$\\text{RSS} = \\sum_i({y_i - \\hat y_i})^2$, donde $\\hat y_i$ es el valor estimado de $y_i$. Un $R^2 \\sim 1$ indica un buen ajuste de los datos."
   ]
  },
  {
   "cell_type": "code",
   "execution_count": 10,
   "id": "competent-hepatitis",
   "metadata": {},
   "outputs": [
    {
     "name": "stdout",
     "output_type": "stream",
     "text": [
      "Calidad del ajuste R^2 = 0.923\n"
     ]
    }
   ],
   "source": [
    "#Calidad del ajuste\n",
    "print('Calidad del ajuste R^2 = {:.3f}'.format(reg.score(X,y)))"
   ]
  },
  {
   "cell_type": "markdown",
   "id": "orange-camel",
   "metadata": {},
   "source": [
    "Es un buen ajuste de los datos, se asemeja bastante a 1"
   ]
  },
  {
   "cell_type": "code",
   "execution_count": 11,
   "id": "three-deputy",
   "metadata": {},
   "outputs": [
    {
     "data": {
      "image/png": "[encoded data removed]",
      "text/plain": [
       "<Figure size 432x288 with 1 Axes>"
      ]
     },
     "metadata": {
      "needs_background": "light"
     },
     "output_type": "display_data"
    }
   ],
   "source": [
    "# Gráficos\n",
    "\n",
    "fig, ax = plt.subplots(1, 1, figsize = (6, 4))\n",
    "\n",
    "# Puntos de entrenamiento\n",
    "ax.scatter(x, y, color = 'b', alpha = 0.35, s = 100)\n",
    "\n",
    "# Relación real\n",
    "y_verdadero = np.polyval([beta_1, beta_0], x)\n",
    "ax.plot(x, y_verdadero, color = 'r', linestyle = '--', linewidth = 4, alpha = 0.75)\n",
    "\n",
    "# Relación estimada\n",
    "y_estimado = np.polyval([beta_1_estimado, beta_0_estimado], x)\n",
    "ax.plot(x, y_estimado, color = 'g', linestyle = '-', linewidth = 4, alpha = 0.75)\n",
    "\n",
    "ax.legend(['Real', 'Estimado'])\n",
    "plt.show()\n"
   ]
  },
  {
   "cell_type": "markdown",
   "id": "affiliated-niagara",
   "metadata": {},
   "source": [
    "Con el modelo ajustado podemos predecir nuevos valores de la variable $y$ a partir de nuevos valores de la variable independiente $x$"
   ]
  },
  {
   "cell_type": "code",
   "execution_count": 13,
   "id": "spoken-surveillance",
   "metadata": {},
   "outputs": [
    {
     "name": "stdout",
     "output_type": "stream",
     "text": [
      "[13.6423944   2.344709   44.96594091]\n"
     ]
    }
   ],
   "source": [
    "### Predicción de nuevos valores\n",
    "x_nuevos = np.array([3.42, 0.65, 11.1])\n",
    "print(reg.predict(x_nuevos.reshape(-1, 1)))"
   ]
  },
  {
   "cell_type": "markdown",
   "id": "dynamic-ozone",
   "metadata": {},
   "source": [
    "## [Regresión polinómica](https://scikit-learn.org/stable/auto_examples/linear_model/plot_polynomial_interpolation.html#sphx-glr-auto-examples-linear-model-plot-polynomial-interpolation-py)\n",
    "\n",
    "La idea de la regresión polinómica es la de aprovechar toda la maquinaria del modelo lineal para describir no linealidades en los datos. La clave está es que un modelo del tipo:\n",
    "$$ y \\sim \\beta_0 + \\beta_1 x_1 + \\beta_2 x_2 + ... + \\beta_m x_m$$\n",
    "es lineal respecto de los parámetros, independientemente de quiénes sean las $x$'s (siempre y cuando cumplan las hipótesis presentadas en la clase anterior).\n",
    "\n",
    "Por lo tanto, podemos tomar que $x_1 \\equiv x$, $x_2 \\equiv x^2$, ..., $x_m \\equiv x^m$, y lo que obtenemos es una relación no lineal entre $y$ y $x$: \n",
    "  $$ y \\sim \\beta_0 + \\beta_1 x + \\beta_2 x^2 + ... + \\beta_m x^m$$\n",
    "y utilizar cuadrados mínimos para estimar los valores de los coeficientes (encontrar los $\\hat \\beta_j$)."
   ]
  },
  {
   "cell_type": "markdown",
   "id": "aerial-convertible",
   "metadata": {},
   "source": [
    "#### Datos sintéticos y ajuste del modelo \n",
    "\n",
    "Para ganar un poco de *feeling* respecto a la regresión polinómica vamos a generar datos sintéticos a partir de una relación que conozcamos. \n",
    "Esto nos permite jugar un poco y ver cómo funciona el ajuste con los datos. \n",
    "\n",
    "Por supuesto, en un problema real nunca conoceremos cómo fueron generados los datos y la idea del ajuste es estimarla. Para estimar la relación real entre los datos vamos a tener que tomar algunas decisiones, como por ejemplo, qué variables son buenas para explicar a la variable dependiente y hasta qué grado incluímos estas variables si consideramos que la relación tiene que ser polinómica. Algunas cosas exploramos acá y otras en el transcurso de la materia.\n"
   ]
  },
  {
   "cell_type": "markdown",
   "id": "cross-motel",
   "metadata": {},
   "source": [
    "Empezamos con la generación de datos sintéticos. En este caso vamoa a generar una reacion de la forma $y$ = $a * sin(\\pi x) + b$ "
   ]
  },
  {
   "cell_type": "code",
   "execution_count": 16,
   "id": "fiscal-primary",
   "metadata": {},
   "outputs": [
    {
     "data": {
      "text/plain": [
       "(-1.05, 1.05)"
      ]
     },
     "execution_count": 16,
     "metadata": {},
     "output_type": "execute_result"
    },
    {
     "data": {
      "image/png": "[encoded data removed]",
      "text/plain": [
       "<Figure size 432x288 with 1 Axes>"
      ]
     },
     "metadata": {
      "needs_background": "light"
     },
     "output_type": "display_data"
    }
   ],
   "source": [
    "## creación de datos sintéticos\n",
    "\n",
    "#variable independiente\n",
    "\n",
    "x = np.arange(-1.00, 1.01, 0.25)\n",
    "\n",
    "# Para generar una relación cúbica usamos la función polyval y  le agremaos ruido normal\n",
    "a = 2.00\n",
    "b = 1.00\n",
    "\n",
    "y = a * np.sin(np.pi * x) + b\n",
    "y += np.random.normal(loc = 0.00, scale = 0.50, size = len(x))\n",
    "\n",
    "# Creemos un dataframe para reutilizar estos mismo datos más adelante\n",
    "df_sintetico = pd.DataFrame()\n",
    "df_sintetico['x'] = x\n",
    "df_sintetico['y'] = y\n",
    "\n",
    "# Gráfico de los datos\n",
    "fig, ax = plt.subplots(1, 1, figsize = (6, 4))\n",
    "df_sintetico.plot(ax = ax, x = 'x', y = 'y', kind = 'scatter', s = 100, color = 'b', alpha = 0.75)\n",
    "ax.set_title('Calidad de los datos N = {}'.format(df_sintetico.shape[0]))\n",
    "\n",
    "# Reación real\n",
    "x_aux = np.arange(-1.00, 1.01, 0.01)\n",
    "ax.plot(x_aux, a * np.sin(np.pi * x_aux) + b, '--', color = 'r', linewidth = 3, alpha = 0.65)\n",
    "\n",
    "ax.legend(['Real'], loc = 4)\n",
    "\n",
    "ax.set_ylim([-4.00, 4.00])\n",
    "ax.set_xlim([-1.05, 1.05])"
   ]
  },
  {
   "cell_type": "code",
   "execution_count": null,
   "id": "exact-visiting",
   "metadata": {},
   "outputs": [],
   "source": [
    "#"
   ]
  }
 ],
 "metadata": {
  "kernelspec": {
   "display_name": "Python 3",
   "language": "python",
   "name": "python3"
  },
  "language_info": {
   "codemirror_mode": {
    "name": "ipython",
    "version": 3
   },
   "file_extension": ".py",
   "mimetype": "text/x-python",
   "name": "python",
   "nbconvert_exporter": "python",
   "pygments_lexer": "ipython3",
   "version": "3.8.5"
  }
 },
 "nbformat": 4,
 "nbformat_minor": 5
}
